{
 "cells": [
  {
   "cell_type": "code",
   "execution_count": 2,
   "metadata": {},
   "outputs": [],
   "source": [
    "# first notebook\n",
    "\n",
    "import pandas as pd\n",
    "import numpy as np\n",
    "import matplotlib.pyplot as plt\n",
    "import math\n",
    "\n",
    "from sklearn.preprocessing import StandardScaler, scale"
   ]
  },
  {
   "cell_type": "code",
   "execution_count": 3,
   "metadata": {},
   "outputs": [
    {
     "data": {
      "text/html": [
       "<div>\n",
       "<style scoped>\n",
       "    .dataframe tbody tr th:only-of-type {\n",
       "        vertical-align: middle;\n",
       "    }\n",
       "\n",
       "    .dataframe tbody tr th {\n",
       "        vertical-align: top;\n",
       "    }\n",
       "\n",
       "    .dataframe thead th {\n",
       "        text-align: right;\n",
       "    }\n",
       "</style>\n",
       "<table border=\"1\" class=\"dataframe\">\n",
       "  <thead>\n",
       "    <tr style=\"text-align: right;\">\n",
       "      <th></th>\n",
       "      <th>Transportation</th>\n",
       "      <th>Distance</th>\n",
       "      <th>Service</th>\n",
       "      <th>Age</th>\n",
       "      <th>Workload</th>\n",
       "      <th>Weight</th>\n",
       "      <th>Height</th>\n",
       "      <th>BMI</th>\n",
       "      <th>AbsentHours</th>\n",
       "    </tr>\n",
       "  </thead>\n",
       "  <tbody>\n",
       "    <tr>\n",
       "      <th>0</th>\n",
       "      <td>289.0</td>\n",
       "      <td>36.0</td>\n",
       "      <td>13.0</td>\n",
       "      <td>33.0</td>\n",
       "      <td>239.554</td>\n",
       "      <td>90.0</td>\n",
       "      <td>172.0</td>\n",
       "      <td>30.0</td>\n",
       "      <td>4.0</td>\n",
       "    </tr>\n",
       "    <tr>\n",
       "      <th>1</th>\n",
       "      <td>118.0</td>\n",
       "      <td>13.0</td>\n",
       "      <td>18.0</td>\n",
       "      <td>50.0</td>\n",
       "      <td>239.554</td>\n",
       "      <td>98.0</td>\n",
       "      <td>178.0</td>\n",
       "      <td>31.0</td>\n",
       "      <td>0.0</td>\n",
       "    </tr>\n",
       "    <tr>\n",
       "      <th>2</th>\n",
       "      <td>179.0</td>\n",
       "      <td>51.0</td>\n",
       "      <td>18.0</td>\n",
       "      <td>38.0</td>\n",
       "      <td>239.554</td>\n",
       "      <td>89.0</td>\n",
       "      <td>170.0</td>\n",
       "      <td>31.0</td>\n",
       "      <td>2.0</td>\n",
       "    </tr>\n",
       "    <tr>\n",
       "      <th>3</th>\n",
       "      <td>279.0</td>\n",
       "      <td>5.0</td>\n",
       "      <td>14.0</td>\n",
       "      <td>39.0</td>\n",
       "      <td>239.554</td>\n",
       "      <td>68.0</td>\n",
       "      <td>168.0</td>\n",
       "      <td>24.0</td>\n",
       "      <td>4.0</td>\n",
       "    </tr>\n",
       "    <tr>\n",
       "      <th>4</th>\n",
       "      <td>289.0</td>\n",
       "      <td>36.0</td>\n",
       "      <td>13.0</td>\n",
       "      <td>33.0</td>\n",
       "      <td>239.554</td>\n",
       "      <td>90.0</td>\n",
       "      <td>172.0</td>\n",
       "      <td>30.0</td>\n",
       "      <td>2.0</td>\n",
       "    </tr>\n",
       "  </tbody>\n",
       "</table>\n",
       "</div>"
      ],
      "text/plain": [
       "   Transportation  Distance  Service   Age  Workload  Weight  Height   BMI  \\\n",
       "0           289.0      36.0     13.0  33.0   239.554    90.0   172.0  30.0   \n",
       "1           118.0      13.0     18.0  50.0   239.554    98.0   178.0  31.0   \n",
       "2           179.0      51.0     18.0  38.0   239.554    89.0   170.0  31.0   \n",
       "3           279.0       5.0     14.0  39.0   239.554    68.0   168.0  24.0   \n",
       "4           289.0      36.0     13.0  33.0   239.554    90.0   172.0  30.0   \n",
       "\n",
       "   AbsentHours  \n",
       "0          4.0  \n",
       "1          0.0  \n",
       "2          2.0  \n",
       "3          4.0  \n",
       "4          2.0  "
      ]
     },
     "execution_count": 3,
     "metadata": {},
     "output_type": "execute_result"
    }
   ],
   "source": [
    "df = pd.read_csv(\"./Datasets/absenteeism_processed.csv\")\n",
    "\n",
    "df.head()"
   ]
  },
  {
   "cell_type": "code",
   "execution_count": 5,
   "metadata": {},
   "outputs": [
    {
     "data": {
      "image/png": "[encoded data removed]",
      "text/plain": [
       "<Figure size 720x720 with 1 Axes>"
      ]
     },
     "metadata": {
      "needs_background": "light"
     },
     "output_type": "display_data"
    }
   ],
   "source": [
    "df.boxplot(figsize=(10, 10))\n",
    "\n",
    "\n",
    "# diff scale if visible\n",
    "plt.show();"
   ]
  },
  {
   "cell_type": "code",
   "execution_count": 6,
   "metadata": {},
   "outputs": [],
   "source": [
    "# standardize just these cols, but can be done on whole data too\n",
    "\n",
    "scaled_df = pd.DataFrame()\n",
    "\n",
    "scaled_df[\"Transportation\"] = scale(df.Transportation)\n",
    "scaled_df[\"Distance\"] = scale(df.Distance)\n",
    "scaled_df[\"AbsentHours\"] = scale(df.AbsentHours)"
   ]
  },
  {
   "cell_type": "code",
   "execution_count": 7,
   "metadata": {},
   "outputs": [
    {
     "data": {
      "text/html": [
       "<div>\n",
       "<style scoped>\n",
       "    .dataframe tbody tr th:only-of-type {\n",
       "        vertical-align: middle;\n",
       "    }\n",
       "\n",
       "    .dataframe tbody tr th {\n",
       "        vertical-align: top;\n",
       "    }\n",
       "\n",
       "    .dataframe thead th {\n",
       "        text-align: right;\n",
       "    }\n",
       "</style>\n",
       "<table border=\"1\" class=\"dataframe\">\n",
       "  <thead>\n",
       "    <tr style=\"text-align: right;\">\n",
       "      <th></th>\n",
       "      <th>Transportation</th>\n",
       "      <th>Distance</th>\n",
       "      <th>AbsentHours</th>\n",
       "    </tr>\n",
       "  </thead>\n",
       "  <tbody>\n",
       "    <tr>\n",
       "      <th>count</th>\n",
       "      <td>7.400000e+02</td>\n",
       "      <td>7.400000e+02</td>\n",
       "      <td>7.400000e+02</td>\n",
       "    </tr>\n",
       "    <tr>\n",
       "      <th>mean</th>\n",
       "      <td>6.601326e-17</td>\n",
       "      <td>-5.911187e-17</td>\n",
       "      <td>9.751959e-17</td>\n",
       "    </tr>\n",
       "    <tr>\n",
       "      <th>std</th>\n",
       "      <td>1.000676e+00</td>\n",
       "      <td>1.000676e+00</td>\n",
       "      <td>1.000676e+00</td>\n",
       "    </tr>\n",
       "    <tr>\n",
       "      <th>min</th>\n",
       "      <td>-1.544379e+00</td>\n",
       "      <td>-1.661258e+00</td>\n",
       "      <td>-5.197666e-01</td>\n",
       "    </tr>\n",
       "    <tr>\n",
       "      <th>25%</th>\n",
       "      <td>-6.326655e-01</td>\n",
       "      <td>-9.193567e-01</td>\n",
       "      <td>-3.696389e-01</td>\n",
       "    </tr>\n",
       "    <tr>\n",
       "      <th>50%</th>\n",
       "      <td>5.485632e-02</td>\n",
       "      <td>-2.449005e-01</td>\n",
       "      <td>-2.945750e-01</td>\n",
       "    </tr>\n",
       "    <tr>\n",
       "      <th>75%</th>\n",
       "      <td>5.779707e-01</td>\n",
       "      <td>1.373794e+00</td>\n",
       "      <td>8.074438e-02</td>\n",
       "    </tr>\n",
       "    <tr>\n",
       "      <th>max</th>\n",
       "      <td>2.491075e+00</td>\n",
       "      <td>1.508686e+00</td>\n",
       "      <td>8.487898e+00</td>\n",
       "    </tr>\n",
       "  </tbody>\n",
       "</table>\n",
       "</div>"
      ],
      "text/plain": [
       "       Transportation      Distance   AbsentHours\n",
       "count    7.400000e+02  7.400000e+02  7.400000e+02\n",
       "mean     6.601326e-17 -5.911187e-17  9.751959e-17\n",
       "std      1.000676e+00  1.000676e+00  1.000676e+00\n",
       "min     -1.544379e+00 -1.661258e+00 -5.197666e-01\n",
       "25%     -6.326655e-01 -9.193567e-01 -3.696389e-01\n",
       "50%      5.485632e-02 -2.449005e-01 -2.945750e-01\n",
       "75%      5.779707e-01  1.373794e+00  8.074438e-02\n",
       "max      2.491075e+00  1.508686e+00  8.487898e+00"
      ]
     },
     "execution_count": 7,
     "metadata": {},
     "output_type": "execute_result"
    }
   ],
   "source": [
    "scaled_df.describe()"
   ]
  },
  {
   "cell_type": "code",
   "execution_count": 8,
   "metadata": {},
   "outputs": [
    {
     "data": {
      "text/plain": [
       "<AxesSubplot:>"
      ]
     },
     "execution_count": 8,
     "metadata": {},
     "output_type": "execute_result"
    },
    {
     "data": {
      "image/png": "[encoded data removed]",
      "text/plain": [
       "<Figure size 720x720 with 1 Axes>"
      ]
     },
     "metadata": {
      "needs_background": "light"
     },
     "output_type": "display_data"
    }
   ],
   "source": [
    "scaled_df.boxplot(figsize = (10, 10))"
   ]
  },
  {
   "cell_type": "code",
   "execution_count": 9,
   "metadata": {},
   "outputs": [],
   "source": [
    "# scaling whole df\n",
    "\n",
    "scaled_array = scale(df, copy =True, with_mean=True, with_std = True)"
   ]
  },
  {
   "cell_type": "code",
   "execution_count": null,
   "metadata": {},
   "outputs": [],
   "source": [
    "# scales df and assign to a df for viz\n",
    "scaled_df = pd.DataFrame(scale(df), columns = df.columns)"
   ]
  },
  {
   "cell_type": "code",
   "execution_count": 12,
   "metadata": {},
   "outputs": [
    {
     "data": {
      "text/html": [
       "<div>\n",
       "<style scoped>\n",
       "    .dataframe tbody tr th:only-of-type {\n",
       "        vertical-align: middle;\n",
       "    }\n",
       "\n",
       "    .dataframe tbody tr th {\n",
       "        vertical-align: top;\n",
       "    }\n",
       "\n",
       "    .dataframe thead th {\n",
       "        text-align: right;\n",
       "    }\n",
       "</style>\n",
       "<table border=\"1\" class=\"dataframe\">\n",
       "  <thead>\n",
       "    <tr style=\"text-align: right;\">\n",
       "      <th></th>\n",
       "      <th>Transportation</th>\n",
       "      <th>Distance</th>\n",
       "      <th>Service</th>\n",
       "      <th>Age</th>\n",
       "      <th>Workload</th>\n",
       "      <th>Weight</th>\n",
       "      <th>Height</th>\n",
       "      <th>BMI</th>\n",
       "      <th>AbsentHours</th>\n",
       "    </tr>\n",
       "  </thead>\n",
       "  <tbody>\n",
       "    <tr>\n",
       "      <th>count</th>\n",
       "      <td>7.400000e+02</td>\n",
       "      <td>7.400000e+02</td>\n",
       "      <td>7.400000e+02</td>\n",
       "      <td>7.400000e+02</td>\n",
       "      <td>7.400000e+02</td>\n",
       "      <td>7.400000e+02</td>\n",
       "      <td>7.400000e+02</td>\n",
       "      <td>7.400000e+02</td>\n",
       "      <td>7.400000e+02</td>\n",
       "    </tr>\n",
       "    <tr>\n",
       "      <th>mean</th>\n",
       "      <td>6.601326e-17</td>\n",
       "      <td>-5.911187e-17</td>\n",
       "      <td>-3.660735e-17</td>\n",
       "      <td>-4.626929e-16</td>\n",
       "      <td>1.866148e-15</td>\n",
       "      <td>2.794311e-17</td>\n",
       "      <td>-1.015329e-15</td>\n",
       "      <td>-1.215244e-16</td>\n",
       "      <td>9.751959e-17</td>\n",
       "    </tr>\n",
       "    <tr>\n",
       "      <th>std</th>\n",
       "      <td>1.000676e+00</td>\n",
       "      <td>1.000676e+00</td>\n",
       "      <td>1.000676e+00</td>\n",
       "      <td>1.000676e+00</td>\n",
       "      <td>1.000676e+00</td>\n",
       "      <td>1.000676e+00</td>\n",
       "      <td>1.000676e+00</td>\n",
       "      <td>1.000676e+00</td>\n",
       "      <td>1.000676e+00</td>\n",
       "    </tr>\n",
       "    <tr>\n",
       "      <th>min</th>\n",
       "      <td>-1.544379e+00</td>\n",
       "      <td>-1.661258e+00</td>\n",
       "      <td>-2.636762e+00</td>\n",
       "      <td>-1.459596e+00</td>\n",
       "      <td>-1.679999e+00</td>\n",
       "      <td>-1.789206e+00</td>\n",
       "      <td>-1.511357e+00</td>\n",
       "      <td>-1.792627e+00</td>\n",
       "      <td>-5.197666e-01</td>\n",
       "    </tr>\n",
       "    <tr>\n",
       "      <th>25%</th>\n",
       "      <td>-6.326655e-01</td>\n",
       "      <td>-9.193567e-01</td>\n",
       "      <td>-8.110742e-01</td>\n",
       "      <td>-8.417777e-01</td>\n",
       "      <td>-6.943900e-01</td>\n",
       "      <td>-7.794581e-01</td>\n",
       "      <td>-5.164829e-01</td>\n",
       "      <td>-6.251003e-01</td>\n",
       "      <td>-3.696389e-01</td>\n",
       "    </tr>\n",
       "    <tr>\n",
       "      <th>50%</th>\n",
       "      <td>5.485632e-02</td>\n",
       "      <td>-2.449005e-01</td>\n",
       "      <td>1.017698e-01</td>\n",
       "      <td>8.495004e-02</td>\n",
       "      <td>-1.855218e-01</td>\n",
       "      <td>3.079626e-01</td>\n",
       "      <td>-3.506706e-01</td>\n",
       "      <td>-3.915949e-01</td>\n",
       "      <td>-2.945750e-01</td>\n",
       "    </tr>\n",
       "    <tr>\n",
       "      <th>75%</th>\n",
       "      <td>5.779707e-01</td>\n",
       "      <td>1.373794e+00</td>\n",
       "      <td>7.864028e-01</td>\n",
       "      <td>5.483139e-01</td>\n",
       "      <td>5.822640e-01</td>\n",
       "      <td>7.740000e-01</td>\n",
       "      <td>-1.904601e-02</td>\n",
       "      <td>1.009438e+00</td>\n",
       "      <td>8.074438e-02</td>\n",
       "    </tr>\n",
       "    <tr>\n",
       "      <th>max</th>\n",
       "      <td>2.491075e+00</td>\n",
       "      <td>1.508686e+00</td>\n",
       "      <td>3.753146e+00</td>\n",
       "      <td>3.328497e+00</td>\n",
       "      <td>2.751449e+00</td>\n",
       "      <td>2.249785e+00</td>\n",
       "      <td>3.960449e+00</td>\n",
       "      <td>2.643976e+00</td>\n",
       "      <td>8.487898e+00</td>\n",
       "    </tr>\n",
       "  </tbody>\n",
       "</table>\n",
       "</div>"
      ],
      "text/plain": [
       "       Transportation      Distance       Service           Age      Workload  \\\n",
       "count    7.400000e+02  7.400000e+02  7.400000e+02  7.400000e+02  7.400000e+02   \n",
       "mean     6.601326e-17 -5.911187e-17 -3.660735e-17 -4.626929e-16  1.866148e-15   \n",
       "std      1.000676e+00  1.000676e+00  1.000676e+00  1.000676e+00  1.000676e+00   \n",
       "min     -1.544379e+00 -1.661258e+00 -2.636762e+00 -1.459596e+00 -1.679999e+00   \n",
       "25%     -6.326655e-01 -9.193567e-01 -8.110742e-01 -8.417777e-01 -6.943900e-01   \n",
       "50%      5.485632e-02 -2.449005e-01  1.017698e-01  8.495004e-02 -1.855218e-01   \n",
       "75%      5.779707e-01  1.373794e+00  7.864028e-01  5.483139e-01  5.822640e-01   \n",
       "max      2.491075e+00  1.508686e+00  3.753146e+00  3.328497e+00  2.751449e+00   \n",
       "\n",
       "             Weight        Height           BMI   AbsentHours  \n",
       "count  7.400000e+02  7.400000e+02  7.400000e+02  7.400000e+02  \n",
       "mean   2.794311e-17 -1.015329e-15 -1.215244e-16  9.751959e-17  \n",
       "std    1.000676e+00  1.000676e+00  1.000676e+00  1.000676e+00  \n",
       "min   -1.789206e+00 -1.511357e+00 -1.792627e+00 -5.197666e-01  \n",
       "25%   -7.794581e-01 -5.164829e-01 -6.251003e-01 -3.696389e-01  \n",
       "50%    3.079626e-01 -3.506706e-01 -3.915949e-01 -2.945750e-01  \n",
       "75%    7.740000e-01 -1.904601e-02  1.009438e+00  8.074438e-02  \n",
       "max    2.249785e+00  3.960449e+00  2.643976e+00  8.487898e+00  "
      ]
     },
     "execution_count": 12,
     "metadata": {},
     "output_type": "execute_result"
    }
   ],
   "source": [
    "scaled_df.describe()"
   ]
  },
  {
   "cell_type": "code",
   "execution_count": 13,
   "metadata": {},
   "outputs": [
    {
     "data": {
      "text/plain": [
       "<AxesSubplot:>"
      ]
     },
     "execution_count": 13,
     "metadata": {},
     "output_type": "execute_result"
    },
    {
     "data": {
      "image/png": "[encoded data removed]",
      "text/plain": [
       "<Figure size 720x720 with 1 Axes>"
      ]
     },
     "metadata": {
      "needs_background": "light"
     },
     "output_type": "display_data"
    }
   ],
   "source": [
    "scaled_df.boxplot(figsize =(10,10))"
   ]
  },
  {
   "cell_type": "markdown",
   "metadata": {},
   "source": [
    "**Standardization using StandardScaler**"
   ]
  },
  {
   "cell_type": "code",
   "execution_count": 16,
   "metadata": {},
   "outputs": [
    {
     "data": {
      "text/plain": [
       "StandardScaler()"
      ]
     },
     "execution_count": 16,
     "metadata": {},
     "output_type": "execute_result"
    }
   ],
   "source": [
    "std_scaler = StandardScaler(copy = True, with_mean=True, with_std=True)\n",
    "\n",
    "std_scaler"
   ]
  },
  {
   "cell_type": "code",
   "execution_count": 17,
   "metadata": {},
   "outputs": [
    {
     "data": {
      "text/plain": [
       "<AxesSubplot:>"
      ]
     },
     "execution_count": 17,
     "metadata": {},
     "output_type": "execute_result"
    },
    {
     "data": {
      "image/png": "[encoded data removed]",
      "text/plain": [
       "<Figure size 720x720 with 1 Axes>"
      ]
     },
     "metadata": {
      "needs_background": "light"
     },
     "output_type": "display_data"
    }
   ],
   "source": [
    "scaled_array = std_scaler.fit_transform(df)\n",
    "\n",
    "scaled_df = pd.DataFrame(scaled_array, columns = df.columns)\n",
    "\n",
    "scaled_df.boxplot(figsize = (10, 10))"
   ]
  },
  {
   "cell_type": "code",
   "execution_count": null,
   "metadata": {},
   "outputs": [],
   "source": []
  },
  {
   "cell_type": "code",
   "execution_count": null,
   "metadata": {},
   "outputs": [],
   "source": []
  },
  {
   "cell_type": "code",
   "execution_count": null,
   "metadata": {},
   "outputs": [],
   "source": []
  },
  {
   "cell_type": "code",
   "execution_count": null,
   "metadata": {},
   "outputs": [],
   "source": []
  },
  {
   "cell_type": "code",
   "execution_count": null,
   "metadata": {},
   "outputs": [],
   "source": []
  },
  {
   "cell_type": "code",
   "execution_count": null,
   "metadata": {},
   "outputs": [],
   "source": []
  },
  {
   "cell_type": "code",
   "execution_count": null,
   "metadata": {},
   "outputs": [],
   "source": []
  },
  {
   "cell_type": "code",
   "execution_count": null,
   "metadata": {},
   "outputs": [],
   "source": []
  },
  {
   "cell_type": "code",
   "execution_count": null,
   "metadata": {},
   "outputs": [],
   "source": []
  },
  {
   "cell_type": "code",
   "execution_count": null,
   "metadata": {},
   "outputs": [],
   "source": []
  },
  {
   "cell_type": "code",
   "execution_count": null,
   "metadata": {},
   "outputs": [],
   "source": []
  },
  {
   "cell_type": "code",
   "execution_count": null,
   "metadata": {},
   "outputs": [],
   "source": []
  },
  {
   "cell_type": "code",
   "execution_count": null,
   "metadata": {},
   "outputs": [],
   "source": []
  },
  {
   "cell_type": "code",
   "execution_count": null,
   "metadata": {},
   "outputs": [],
   "source": []
  },
  {
   "cell_type": "code",
   "execution_count": null,
   "metadata": {},
   "outputs": [],
   "source": []
  },
  {
   "cell_type": "code",
   "execution_count": null,
   "metadata": {},
   "outputs": [],
   "source": []
  },
  {
   "cell_type": "code",
   "execution_count": null,
   "metadata": {},
   "outputs": [],
   "source": []
  },
  {
   "cell_type": "code",
   "execution_count": null,
   "metadata": {},
   "outputs": [],
   "source": []
  },
  {
   "cell_type": "code",
   "execution_count": null,
   "metadata": {},
   "outputs": [],
   "source": []
  },
  {
   "cell_type": "code",
   "execution_count": null,
   "metadata": {},
   "outputs": [],
   "source": []
  },
  {
   "cell_type": "code",
   "execution_count": null,
   "metadata": {},
   "outputs": [],
   "source": []
  },
  {
   "cell_type": "code",
   "execution_count": null,
   "metadata": {},
   "outputs": [],
   "source": []
  },
  {
   "cell_type": "code",
   "execution_count": null,
   "metadata": {},
   "outputs": [],
   "source": []
  },
  {
   "cell_type": "code",
   "execution_count": null,
   "metadata": {},
   "outputs": [],
   "source": []
  },
  {
   "cell_type": "code",
   "execution_count": null,
   "metadata": {},
   "outputs": [],
   "source": []
  },
  {
   "cell_type": "code",
   "execution_count": null,
   "metadata": {},
   "outputs": [],
   "source": []
  },
  {
   "cell_type": "code",
   "execution_count": null,
   "metadata": {},
   "outputs": [],
   "source": []
  },
  {
   "cell_type": "code",
   "execution_count": null,
   "metadata": {},
   "outputs": [],
   "source": []
  },
  {
   "cell_type": "code",
   "execution_count": null,
   "metadata": {},
   "outputs": [],
   "source": []
  },
  {
   "cell_type": "code",
   "execution_count": null,
   "metadata": {},
   "outputs": [],
   "source": []
  },
  {
   "cell_type": "code",
   "execution_count": null,
   "metadata": {},
   "outputs": [],
   "source": []
  },
  {
   "cell_type": "code",
   "execution_count": null,
   "metadata": {},
   "outputs": [],
   "source": []
  },
  {
   "cell_type": "code",
   "execution_count": null,
   "metadata": {},
   "outputs": [],
   "source": []
  },
  {
   "cell_type": "code",
   "execution_count": null,
   "metadata": {},
   "outputs": [],
   "source": []
  },
  {
   "cell_type": "code",
   "execution_count": null,
   "metadata": {},
   "outputs": [],
   "source": []
  },
  {
   "cell_type": "code",
   "execution_count": null,
   "metadata": {},
   "outputs": [],
   "source": []
  },
  {
   "cell_type": "code",
   "execution_count": null,
   "metadata": {},
   "outputs": [],
   "source": []
  },
  {
   "cell_type": "code",
   "execution_count": null,
   "metadata": {},
   "outputs": [],
   "source": []
  },
  {
   "cell_type": "code",
   "execution_count": null,
   "metadata": {},
   "outputs": [],
   "source": []
  },
  {
   "cell_type": "code",
   "execution_count": null,
   "metadata": {},
   "outputs": [],
   "source": []
  },
  {
   "cell_type": "code",
   "execution_count": null,
   "metadata": {},
   "outputs": [],
   "source": []
  },
  {
   "cell_type": "code",
   "execution_count": null,
   "metadata": {},
   "outputs": [],
   "source": []
  },
  {
   "cell_type": "code",
   "execution_count": null,
   "metadata": {},
   "outputs": [],
   "source": []
  },
  {
   "cell_type": "code",
   "execution_count": null,
   "metadata": {},
   "outputs": [],
   "source": []
  },
  {
   "cell_type": "code",
   "execution_count": null,
   "metadata": {},
   "outputs": [],
   "source": []
  },
  {
   "cell_type": "code",
   "execution_count": null,
   "metadata": {},
   "outputs": [],
   "source": []
  }
 ],
 "metadata": {
  "kernelspec": {
   "display_name": "Python 3",
   "language": "python",
   "name": "python3"
  },
  "language_info": {
   "codemirror_mode": {
    "name": "ipython",
    "version": 3
   },
   "file_extension": ".py",
   "mimetype": "text/x-python",
   "name": "python",
   "nbconvert_exporter": "python",
   "pygments_lexer": "ipython3",
   "version": "3.8.5"
  }
 },
 "nbformat": 4,
 "nbformat_minor": 4
}
