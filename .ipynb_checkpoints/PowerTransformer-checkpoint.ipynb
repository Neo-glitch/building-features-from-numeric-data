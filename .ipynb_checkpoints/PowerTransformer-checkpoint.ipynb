{
 "cells": [
  {
   "cell_type": "markdown",
   "metadata": {},
   "source": [
    "#### tries tp tranform data from any distro to Gaussian distro"
   ]
  },
  {
   "cell_type": "code",
   "execution_count": 1,
   "metadata": {},
   "outputs": [],
   "source": [
    "#11th notebook\n",
    "\n",
    "import pandas as pd\n",
    "import numpy as np\n",
    "import matplotlib.pyplot as plt\n",
    "from sklearn.preprocessing import PowerTransformer\n",
    "from sklearn.linear_model import LinearRegression"
   ]
  },
  {
   "cell_type": "code",
   "execution_count": 2,
   "metadata": {},
   "outputs": [
    {
     "data": {
      "text/html": [
       "<div>\n",
       "<style scoped>\n",
       "    .dataframe tbody tr th:only-of-type {\n",
       "        vertical-align: middle;\n",
       "    }\n",
       "\n",
       "    .dataframe tbody tr th {\n",
       "        vertical-align: top;\n",
       "    }\n",
       "\n",
       "    .dataframe thead th {\n",
       "        text-align: right;\n",
       "    }\n",
       "</style>\n",
       "<table border=\"1\" class=\"dataframe\">\n",
       "  <thead>\n",
       "    <tr style=\"text-align: right;\">\n",
       "      <th></th>\n",
       "      <th>Q1</th>\n",
       "      <th>Q2</th>\n",
       "      <th>Q3</th>\n",
       "      <th>Q4</th>\n",
       "      <th>Q5</th>\n",
       "      <th>Q6</th>\n",
       "      <th>Q7</th>\n",
       "      <th>Q8</th>\n",
       "      <th>Votes</th>\n",
       "    </tr>\n",
       "  </thead>\n",
       "  <tbody>\n",
       "    <tr>\n",
       "      <th>0</th>\n",
       "      <td>-1.388211</td>\n",
       "      <td>-1.389959</td>\n",
       "      <td>0.347923</td>\n",
       "      <td>-0.052494</td>\n",
       "      <td>-0.202153</td>\n",
       "      <td>0.057804</td>\n",
       "      <td>1.183421</td>\n",
       "      <td>0.183474</td>\n",
       "      <td>550</td>\n",
       "    </tr>\n",
       "    <tr>\n",
       "      <th>1</th>\n",
       "      <td>0.456374</td>\n",
       "      <td>1.095764</td>\n",
       "      <td>0.463571</td>\n",
       "      <td>0.905927</td>\n",
       "      <td>0.249351</td>\n",
       "      <td>0.081663</td>\n",
       "      <td>-0.550198</td>\n",
       "      <td>-0.495891</td>\n",
       "      <td>670</td>\n",
       "    </tr>\n",
       "    <tr>\n",
       "      <th>2</th>\n",
       "      <td>0.003587</td>\n",
       "      <td>-0.420926</td>\n",
       "      <td>-1.600987</td>\n",
       "      <td>0.028840</td>\n",
       "      <td>1.105627</td>\n",
       "      <td>0.739811</td>\n",
       "      <td>-0.975828</td>\n",
       "      <td>-0.519515</td>\n",
       "      <td>546</td>\n",
       "    </tr>\n",
       "    <tr>\n",
       "      <th>3</th>\n",
       "      <td>-1.284997</td>\n",
       "      <td>-0.063613</td>\n",
       "      <td>-1.161092</td>\n",
       "      <td>0.685333</td>\n",
       "      <td>-1.701926</td>\n",
       "      <td>1.942891</td>\n",
       "      <td>-0.780951</td>\n",
       "      <td>-1.231096</td>\n",
       "      <td>400</td>\n",
       "    </tr>\n",
       "    <tr>\n",
       "      <th>4</th>\n",
       "      <td>-0.179291</td>\n",
       "      <td>0.309389</td>\n",
       "      <td>0.624467</td>\n",
       "      <td>-1.374801</td>\n",
       "      <td>0.689295</td>\n",
       "      <td>-0.194378</td>\n",
       "      <td>-1.406515</td>\n",
       "      <td>0.461056</td>\n",
       "      <td>572</td>\n",
       "    </tr>\n",
       "  </tbody>\n",
       "</table>\n",
       "</div>"
      ],
      "text/plain": [
       "         Q1        Q2        Q3        Q4        Q5        Q6        Q7  \\\n",
       "0 -1.388211 -1.389959  0.347923 -0.052494 -0.202153  0.057804  1.183421   \n",
       "1  0.456374  1.095764  0.463571  0.905927  0.249351  0.081663 -0.550198   \n",
       "2  0.003587 -0.420926 -1.600987  0.028840  1.105627  0.739811 -0.975828   \n",
       "3 -1.284997 -0.063613 -1.161092  0.685333 -1.701926  1.942891 -0.780951   \n",
       "4 -0.179291  0.309389  0.624467 -1.374801  0.689295 -0.194378 -1.406515   \n",
       "\n",
       "         Q8  Votes  \n",
       "0  0.183474    550  \n",
       "1 -0.495891    670  \n",
       "2 -0.519515    546  \n",
       "3 -1.231096    400  \n",
       "4  0.461056    572  "
      ]
     },
     "execution_count": 2,
     "metadata": {},
     "output_type": "execute_result"
    }
   ],
   "source": [
    "analyst_data = pd.read_csv(\"./Datasets/Analyst_Forecasts.csv\")\n",
    "analyst_data.head()\n",
    "\n",
    "# values for each row from col q1 - q8 shows how much analyst predictions for a qaurter deviated from actual result\n",
    "# votes is popularity of analyst"
   ]
  },
  {
   "cell_type": "code",
   "execution_count": 3,
   "metadata": {},
   "outputs": [],
   "source": [
    "X = analyst_data[[\"Q1\", \"Q2\", \"Q3\", \"Q4\", \"Q5\", \"Q6\", \"Q7\", \"Q8\"]]\n",
    "\n",
    "y = analyst_data[[\"Votes\"]]"
   ]
  },
  {
   "cell_type": "code",
   "execution_count": 6,
   "metadata": {},
   "outputs": [
    {
     "data": {
      "image/png": "[encoded data removed]",
      "text/plain": [
       "<Figure size 720x720 with 1 Axes>"
      ]
     },
     "metadata": {
      "needs_background": "light"
     },
     "output_type": "display_data"
    }
   ],
   "source": [
    "# viz data\n",
    "plt.figure(figsize = (10, 10))\n",
    "\n",
    "plt.hist(analyst_data[\"Votes\"], facecolor = \"green\", edgecolor = \"red\", bins = 40)\n",
    "\n",
    "plt.xlabel(\"# Votes\")\n",
    "plt.ylabel(\"Count\")\n",
    "\n",
    "plt.title(\"Histogram of # Votes\")\n",
    "plt.show();"
   ]
  },
  {
   "cell_type": "code",
   "execution_count": 8,
   "metadata": {},
   "outputs": [
    {
     "data": {
      "text/html": [
       "<div>\n",
       "<style scoped>\n",
       "    .dataframe tbody tr th:only-of-type {\n",
       "        vertical-align: middle;\n",
       "    }\n",
       "\n",
       "    .dataframe tbody tr th {\n",
       "        vertical-align: top;\n",
       "    }\n",
       "\n",
       "    .dataframe thead th {\n",
       "        text-align: right;\n",
       "    }\n",
       "</style>\n",
       "<table border=\"1\" class=\"dataframe\">\n",
       "  <thead>\n",
       "    <tr style=\"text-align: right;\">\n",
       "      <th></th>\n",
       "      <th>Q1</th>\n",
       "      <th>Q2</th>\n",
       "      <th>Q3</th>\n",
       "      <th>Q4</th>\n",
       "      <th>Q5</th>\n",
       "      <th>Q6</th>\n",
       "      <th>Q7</th>\n",
       "      <th>Q8</th>\n",
       "      <th>Votes</th>\n",
       "      <th>Variability</th>\n",
       "    </tr>\n",
       "  </thead>\n",
       "  <tbody>\n",
       "    <tr>\n",
       "      <th>0</th>\n",
       "      <td>-1.388211</td>\n",
       "      <td>-1.389959</td>\n",
       "      <td>0.347923</td>\n",
       "      <td>-0.052494</td>\n",
       "      <td>-0.202153</td>\n",
       "      <td>0.057804</td>\n",
       "      <td>1.183421</td>\n",
       "      <td>0.183474</td>\n",
       "      <td>550</td>\n",
       "      <td>0.751824</td>\n",
       "    </tr>\n",
       "    <tr>\n",
       "      <th>1</th>\n",
       "      <td>0.456374</td>\n",
       "      <td>1.095764</td>\n",
       "      <td>0.463571</td>\n",
       "      <td>0.905927</td>\n",
       "      <td>0.249351</td>\n",
       "      <td>0.081663</td>\n",
       "      <td>-0.550198</td>\n",
       "      <td>-0.495891</td>\n",
       "      <td>670</td>\n",
       "      <td>0.350491</td>\n",
       "    </tr>\n",
       "    <tr>\n",
       "      <th>2</th>\n",
       "      <td>0.003587</td>\n",
       "      <td>-0.420926</td>\n",
       "      <td>-1.600987</td>\n",
       "      <td>0.028840</td>\n",
       "      <td>1.105627</td>\n",
       "      <td>0.739811</td>\n",
       "      <td>-0.975828</td>\n",
       "      <td>-0.519515</td>\n",
       "      <td>546</td>\n",
       "      <td>0.771014</td>\n",
       "    </tr>\n",
       "    <tr>\n",
       "      <th>3</th>\n",
       "      <td>-1.284997</td>\n",
       "      <td>-0.063613</td>\n",
       "      <td>-1.161092</td>\n",
       "      <td>0.685333</td>\n",
       "      <td>-1.701926</td>\n",
       "      <td>1.942891</td>\n",
       "      <td>-0.780951</td>\n",
       "      <td>-1.231096</td>\n",
       "      <td>400</td>\n",
       "      <td>1.522004</td>\n",
       "    </tr>\n",
       "    <tr>\n",
       "      <th>4</th>\n",
       "      <td>-0.179291</td>\n",
       "      <td>0.309389</td>\n",
       "      <td>0.624467</td>\n",
       "      <td>-1.374801</td>\n",
       "      <td>0.689295</td>\n",
       "      <td>-0.194378</td>\n",
       "      <td>-1.406515</td>\n",
       "      <td>0.461056</td>\n",
       "      <td>572</td>\n",
       "      <td>0.709765</td>\n",
       "    </tr>\n",
       "  </tbody>\n",
       "</table>\n",
       "</div>"
      ],
      "text/plain": [
       "         Q1        Q2        Q3        Q4        Q5        Q6        Q7  \\\n",
       "0 -1.388211 -1.389959  0.347923 -0.052494 -0.202153  0.057804  1.183421   \n",
       "1  0.456374  1.095764  0.463571  0.905927  0.249351  0.081663 -0.550198   \n",
       "2  0.003587 -0.420926 -1.600987  0.028840  1.105627  0.739811 -0.975828   \n",
       "3 -1.284997 -0.063613 -1.161092  0.685333 -1.701926  1.942891 -0.780951   \n",
       "4 -0.179291  0.309389  0.624467 -1.374801  0.689295 -0.194378 -1.406515   \n",
       "\n",
       "         Q8  Votes  Variability  \n",
       "0  0.183474    550     0.751824  \n",
       "1 -0.495891    670     0.350491  \n",
       "2 -0.519515    546     0.771014  \n",
       "3 -1.231096    400     1.522004  \n",
       "4  0.461056    572     0.709765  "
      ]
     },
     "execution_count": 8,
     "metadata": {},
     "output_type": "execute_result"
    }
   ],
   "source": [
    "# gets the variance of each row in dataset of each analyst forecast and save in the main df\n",
    "analyst_data[\"Variability\"] = analyst_data[[\"Q1\", \"Q2\", \"Q3\", \"Q4\", \"Q5\", \"Q6\", \"Q7\", \"Q8\"]].var(axis = 1)\n",
    "\n",
    "analyst_data.head()"
   ]
  },
  {
   "cell_type": "code",
   "execution_count": 9,
   "metadata": {},
   "outputs": [
    {
     "data": {
      "image/png": "[encoded data removed]",
      "text/plain": [
       "<Figure size 720x720 with 1 Axes>"
      ]
     },
     "metadata": {
      "needs_background": "light"
     },
     "output_type": "display_data"
    }
   ],
   "source": [
    "# viz data(distor is chi sqaured)\n",
    "plt.figure(figsize = (10, 10))\n",
    "\n",
    "plt.hist(analyst_data[\"Variability\"], facecolor = \"purple\", edgecolor = \"red\", bins = 40)\n",
    "\n",
    "plt.xlabel(\"# Variability\")\n",
    "plt.ylabel(\"Count\")\n",
    "\n",
    "plt.title(\"Histogram of # Variabilty(Chi Squared distro)\")\n",
    "plt.show();"
   ]
  },
  {
   "cell_type": "code",
   "execution_count": 11,
   "metadata": {},
   "outputs": [
    {
     "data": {
      "text/plain": [
       "0.008116291372005646"
      ]
     },
     "execution_count": 11,
     "metadata": {},
     "output_type": "execute_result"
    }
   ],
   "source": [
    "# fit model to get num of votes/popularity of each analyst\n",
    "linear_regression = LinearRegression().fit(X, y)\n",
    "linear_regression.score(X, y)"
   ]
  },
  {
   "cell_type": "code",
   "execution_count": 13,
   "metadata": {},
   "outputs": [
    {
     "data": {
      "text/html": [
       "<div>\n",
       "<style scoped>\n",
       "    .dataframe tbody tr th:only-of-type {\n",
       "        vertical-align: middle;\n",
       "    }\n",
       "\n",
       "    .dataframe tbody tr th {\n",
       "        vertical-align: top;\n",
       "    }\n",
       "\n",
       "    .dataframe thead th {\n",
       "        text-align: right;\n",
       "    }\n",
       "</style>\n",
       "<table border=\"1\" class=\"dataframe\">\n",
       "  <thead>\n",
       "    <tr style=\"text-align: right;\">\n",
       "      <th></th>\n",
       "      <th>y_actual</th>\n",
       "      <th>y_predicted</th>\n",
       "    </tr>\n",
       "  </thead>\n",
       "  <tbody>\n",
       "    <tr>\n",
       "      <th>0</th>\n",
       "      <td>550</td>\n",
       "      <td>494.619586</td>\n",
       "    </tr>\n",
       "    <tr>\n",
       "      <th>1</th>\n",
       "      <td>670</td>\n",
       "      <td>503.899640</td>\n",
       "    </tr>\n",
       "    <tr>\n",
       "      <th>2</th>\n",
       "      <td>546</td>\n",
       "      <td>510.953328</td>\n",
       "    </tr>\n",
       "    <tr>\n",
       "      <th>3</th>\n",
       "      <td>400</td>\n",
       "      <td>502.212805</td>\n",
       "    </tr>\n",
       "    <tr>\n",
       "      <th>4</th>\n",
       "      <td>572</td>\n",
       "      <td>496.418362</td>\n",
       "    </tr>\n",
       "  </tbody>\n",
       "</table>\n",
       "</div>"
      ],
      "text/plain": [
       "   y_actual  y_predicted\n",
       "0       550   494.619586\n",
       "1       670   503.899640\n",
       "2       546   510.953328\n",
       "3       400   502.212805\n",
       "4       572   496.418362"
      ]
     },
     "execution_count": 13,
     "metadata": {},
     "output_type": "execute_result"
    }
   ],
   "source": [
    "# compare predictions of poor model to actual values\n",
    "y_predict = linear_regression.predict(X)\n",
    "\n",
    "results_df = pd.DataFrame({\"y_actual\": y[\"Votes\"],\n",
    "                          \"y_predicted\": y_predict.reshape(1, -1)[0]})\n",
    "\n",
    "results_df.head()"
   ]
  },
  {
   "cell_type": "markdown",
   "metadata": {},
   "source": [
    "**Using Power Transformer to improve our model**"
   ]
  },
  {
   "cell_type": "code",
   "execution_count": 14,
   "metadata": {},
   "outputs": [
    {
     "data": {
      "text/html": [
       "<div>\n",
       "<style scoped>\n",
       "    .dataframe tbody tr th:only-of-type {\n",
       "        vertical-align: middle;\n",
       "    }\n",
       "\n",
       "    .dataframe tbody tr th {\n",
       "        vertical-align: top;\n",
       "    }\n",
       "\n",
       "    .dataframe thead th {\n",
       "        text-align: right;\n",
       "    }\n",
       "</style>\n",
       "<table border=\"1\" class=\"dataframe\">\n",
       "  <thead>\n",
       "    <tr style=\"text-align: right;\">\n",
       "      <th></th>\n",
       "      <th>Variability</th>\n",
       "    </tr>\n",
       "  </thead>\n",
       "  <tbody>\n",
       "    <tr>\n",
       "      <th>0</th>\n",
       "      <td>0.751824</td>\n",
       "    </tr>\n",
       "    <tr>\n",
       "      <th>1</th>\n",
       "      <td>0.350491</td>\n",
       "    </tr>\n",
       "    <tr>\n",
       "      <th>2</th>\n",
       "      <td>0.771014</td>\n",
       "    </tr>\n",
       "    <tr>\n",
       "      <th>3</th>\n",
       "      <td>1.522004</td>\n",
       "    </tr>\n",
       "    <tr>\n",
       "      <th>4</th>\n",
       "      <td>0.709765</td>\n",
       "    </tr>\n",
       "  </tbody>\n",
       "</table>\n",
       "</div>"
      ],
      "text/plain": [
       "   Variability\n",
       "0     0.751824\n",
       "1     0.350491\n",
       "2     0.771014\n",
       "3     1.522004\n",
       "4     0.709765"
      ]
     },
     "execution_count": 14,
     "metadata": {},
     "output_type": "execute_result"
    }
   ],
   "source": [
    "# store variablity of analyst pred in another df\n",
    "x_chi_sq = analyst_data[[\"Variability\"]]\n",
    "x_chi_sq.head()"
   ]
  },
  {
   "cell_type": "code",
   "execution_count": 15,
   "metadata": {},
   "outputs": [],
   "source": [
    "# power transforms variablity(chi-squared distro) to normal distro\n",
    "# using box cox, data must be all +ve.. if data has -ve values use ; \"yeo-johnson\"\n",
    "power_transformer = PowerTransformer(method = \"box-cox\")\n",
    "\n",
    "x_transformed = power_transformer.fit(x_chi_sq).transform(x_chi_sq)"
   ]
  },
  {
   "cell_type": "code",
   "execution_count": 16,
   "metadata": {},
   "outputs": [
    {
     "data": {
      "image/png": "[encoded data removed]",
      "text/plain": [
       "<Figure size 720x720 with 1 Axes>"
      ]
     },
     "metadata": {
      "needs_background": "light"
     },
     "output_type": "display_data"
    }
   ],
   "source": [
    "# viz data(distor is chi sqaured)\n",
    "plt.figure(figsize = (10, 10))\n",
    "\n",
    "plt.hist(x_transformed, facecolor = \"cyan\", edgecolor = \"red\", bins = 40)\n",
    "\n",
    "plt.xlabel(\"# Variability\")\n",
    "plt.ylabel(\"Count\")\n",
    "\n",
    "plt.title(\"Histogram of # Variabilty(transformed to normal distro)\")\n",
    "plt.show();"
   ]
  },
  {
   "cell_type": "code",
   "execution_count": 17,
   "metadata": {},
   "outputs": [
    {
     "data": {
      "text/plain": [
       "0.8620498861541088"
      ]
     },
     "execution_count": 17,
     "metadata": {},
     "output_type": "execute_result"
    }
   ],
   "source": [
    "# used the transormed variability to predict vote\n",
    "linear_regression = LinearRegression().fit(x_transformed, y)\n",
    "\n",
    "linear_regression.score(x_transformed, y)"
   ]
  },
  {
   "cell_type": "code",
   "execution_count": null,
   "metadata": {},
   "outputs": [],
   "source": []
  },
  {
   "cell_type": "code",
   "execution_count": null,
   "metadata": {},
   "outputs": [],
   "source": []
  },
  {
   "cell_type": "code",
   "execution_count": null,
   "metadata": {},
   "outputs": [],
   "source": []
  },
  {
   "cell_type": "code",
   "execution_count": null,
   "metadata": {},
   "outputs": [],
   "source": []
  },
  {
   "cell_type": "code",
   "execution_count": null,
   "metadata": {},
   "outputs": [],
   "source": []
  },
  {
   "cell_type": "code",
   "execution_count": null,
   "metadata": {},
   "outputs": [],
   "source": []
  },
  {
   "cell_type": "code",
   "execution_count": null,
   "metadata": {},
   "outputs": [],
   "source": []
  },
  {
   "cell_type": "code",
   "execution_count": null,
   "metadata": {},
   "outputs": [],
   "source": []
  },
  {
   "cell_type": "code",
   "execution_count": null,
   "metadata": {},
   "outputs": [],
   "source": []
  },
  {
   "cell_type": "code",
   "execution_count": null,
   "metadata": {},
   "outputs": [],
   "source": []
  },
  {
   "cell_type": "code",
   "execution_count": null,
   "metadata": {},
   "outputs": [],
   "source": []
  },
  {
   "cell_type": "code",
   "execution_count": null,
   "metadata": {},
   "outputs": [],
   "source": []
  },
  {
   "cell_type": "code",
   "execution_count": null,
   "metadata": {},
   "outputs": [],
   "source": []
  },
  {
   "cell_type": "code",
   "execution_count": null,
   "metadata": {},
   "outputs": [],
   "source": []
  },
  {
   "cell_type": "code",
   "execution_count": null,
   "metadata": {},
   "outputs": [],
   "source": []
  },
  {
   "cell_type": "code",
   "execution_count": null,
   "metadata": {},
   "outputs": [],
   "source": []
  },
  {
   "cell_type": "code",
   "execution_count": null,
   "metadata": {},
   "outputs": [],
   "source": []
  },
  {
   "cell_type": "code",
   "execution_count": null,
   "metadata": {},
   "outputs": [],
   "source": []
  },
  {
   "cell_type": "code",
   "execution_count": null,
   "metadata": {},
   "outputs": [],
   "source": []
  },
  {
   "cell_type": "code",
   "execution_count": null,
   "metadata": {},
   "outputs": [],
   "source": []
  },
  {
   "cell_type": "code",
   "execution_count": null,
   "metadata": {},
   "outputs": [],
   "source": []
  },
  {
   "cell_type": "code",
   "execution_count": null,
   "metadata": {},
   "outputs": [],
   "source": []
  },
  {
   "cell_type": "code",
   "execution_count": null,
   "metadata": {},
   "outputs": [],
   "source": []
  },
  {
   "cell_type": "code",
   "execution_count": null,
   "metadata": {},
   "outputs": [],
   "source": []
  },
  {
   "cell_type": "code",
   "execution_count": null,
   "metadata": {},
   "outputs": [],
   "source": []
  },
  {
   "cell_type": "code",
   "execution_count": null,
   "metadata": {},
   "outputs": [],
   "source": []
  },
  {
   "cell_type": "code",
   "execution_count": null,
   "metadata": {},
   "outputs": [],
   "source": []
  },
  {
   "cell_type": "code",
   "execution_count": null,
   "metadata": {},
   "outputs": [],
   "source": []
  },
  {
   "cell_type": "code",
   "execution_count": null,
   "metadata": {},
   "outputs": [],
   "source": []
  },
  {
   "cell_type": "code",
   "execution_count": null,
   "metadata": {},
   "outputs": [],
   "source": []
  },
  {
   "cell_type": "code",
   "execution_count": null,
   "metadata": {},
   "outputs": [],
   "source": []
  },
  {
   "cell_type": "code",
   "execution_count": null,
   "metadata": {},
   "outputs": [],
   "source": []
  },
  {
   "cell_type": "code",
   "execution_count": null,
   "metadata": {},
   "outputs": [],
   "source": []
  },
  {
   "cell_type": "code",
   "execution_count": null,
   "metadata": {},
   "outputs": [],
   "source": []
  },
  {
   "cell_type": "code",
   "execution_count": null,
   "metadata": {},
   "outputs": [],
   "source": []
  },
  {
   "cell_type": "code",
   "execution_count": null,
   "metadata": {},
   "outputs": [],
   "source": []
  },
  {
   "cell_type": "code",
   "execution_count": null,
   "metadata": {},
   "outputs": [],
   "source": []
  },
  {
   "cell_type": "code",
   "execution_count": null,
   "metadata": {},
   "outputs": [],
   "source": []
  },
  {
   "cell_type": "code",
   "execution_count": null,
   "metadata": {},
   "outputs": [],
   "source": []
  },
  {
   "cell_type": "code",
   "execution_count": null,
   "metadata": {},
   "outputs": [],
   "source": []
  },
  {
   "cell_type": "code",
   "execution_count": null,
   "metadata": {},
   "outputs": [],
   "source": []
  },
  {
   "cell_type": "code",
   "execution_count": null,
   "metadata": {},
   "outputs": [],
   "source": []
  },
  {
   "cell_type": "code",
   "execution_count": null,
   "metadata": {},
   "outputs": [],
   "source": []
  },
  {
   "cell_type": "code",
   "execution_count": null,
   "metadata": {},
   "outputs": [],
   "source": []
  },
  {
   "cell_type": "code",
   "execution_count": null,
   "metadata": {},
   "outputs": [],
   "source": []
  },
  {
   "cell_type": "code",
   "execution_count": null,
   "metadata": {},
   "outputs": [],
   "source": []
  }
 ],
 "metadata": {
  "kernelspec": {
   "display_name": "Python 3",
   "language": "python",
   "name": "python3"
  },
  "language_info": {
   "codemirror_mode": {
    "name": "ipython",
    "version": 3
   },
   "file_extension": ".py",
   "mimetype": "text/x-python",
   "name": "python",
   "nbconvert_exporter": "python",
   "pygments_lexer": "ipython3",
   "version": "3.8.5"
  }
 },
 "nbformat": 4,
 "nbformat_minor": 4
}
